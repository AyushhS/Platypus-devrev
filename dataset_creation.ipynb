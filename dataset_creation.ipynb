{
 "cells": [
  {
   "cell_type": "code",
   "execution_count": 2,
   "metadata": {},
   "outputs": [
    {
     "name": "stderr",
     "output_type": "stream",
     "text": [
      "/home/cornflaek/.local/lib/python3.10/site-packages/tqdm/auto.py:21: TqdmWarning: IProgress not found. Please update jupyter and ipywidgets. See https://ipywidgets.readthedocs.io/en/stable/user_install.html\n",
      "  from .autonotebook import tqdm as notebook_tqdm\n"
     ]
    }
   ],
   "source": [
    "import datasets\n",
    "import pandas as pd\n",
    "import json"
   ]
  },
  {
   "cell_type": "code",
   "execution_count": 2,
   "metadata": {},
   "outputs": [
    {
     "data": {
      "text/plain": [
       "DatasetDict({\n",
       "    train: Dataset({\n",
       "        features: ['input', 'output', 'instruction', 'data_source'],\n",
       "        num_rows: 24926\n",
       "    })\n",
       "})"
      ]
     },
     "execution_count": 2,
     "metadata": {},
     "output_type": "execute_result"
    }
   ],
   "source": [
    "s = datasets.load_dataset('garage-bAInd/Open-Platypus')\n",
    "s"
   ]
  },
  {
   "cell_type": "code",
   "execution_count": 9,
   "metadata": {},
   "outputs": [],
   "source": [
    "input =  '''You are an AI assistant designed to help developers in their day to day tasks by automating their requests using tools available to them.\n",
    "\n",
    "The actions defined in this domain are:\n",
    "\n",
    "The works_list action: Returns a list of work items matching the request. It has the following parameters: \n",
    "\tapplies_to_part: Filters for work belonging to any of the provided parts.\n",
    "\tcreated_by: Filters for work created by any of these users.\n",
    "\tissue.priority: Filters for issues with any of the provided priorities. Allowed values: p0, p1, p2, p3.\n",
    "\tissue.rev_orgs: Filters for issues with any of the provided Rev organizations.\n",
    "\tlimit: The maximum number of works to return. The default is '50'.\n",
    "\towned_by: Filters for work owned by any of these users.\n",
    "\tstage.name: Filters for records in the provided stage(s) by name.\n",
    "\tticket.needs_response: Filters for tickets that need a response.\n",
    "\tticket.rev_org: Filters for tickets associated with any of the provided Rev organizations.\n",
    "\tticket.severity: Filters for tickets with any of the provided severities. Allowed values: blocker, high, low, medium.\n",
    "\tticket.source_channel: Filters for tickets with any of the provided source channels.\n",
    "\ttype: Filters for work of the provided types. Allowed values: issue, ticket, task.\n",
    "\n",
    "\n",
    "The summarize_objects action: Summarizes a list of objects. The logic of how to summarize a particular object type is an internal implementation detail. It has the following parameters: \n",
    "\tobjects: List of objects to summarize.\n",
    "\n",
    "\n",
    "The prioritize_objects action: Returns a list of objects sorted by priority. The logic of what constitutes priority for a given object is an internal implementation detail. It has the following parameters: \n",
    "\tobjects: A list of objects to be prioritized.\n",
    "\n",
    "\n",
    "The add_work_items_to_sprint action: Adds the given work items to the sprint. It has the following parameters: \n",
    "\twork_ids: A list of work item IDs to be added to the sprint.\n",
    "\tsprint_id: The ID of the sprint to which the work items should be added.\n",
    "\n",
    "\n",
    "The get_sprint_id action: Returns the ID of the current sprint. It has no parameters. \n",
    "\n",
    "The get_similar_work_items action: Returns a list of work items that are similar to the given work item. It has the following parameters: \n",
    "\twork_id: The ID of the work item for which you want to find similar items.\n",
    "\n",
    "\n",
    "The search_object_by_name action: Given a search string, returns the ID of a matching object in the system of record. If multiple matches are found, it returns the one where the confidence is highest. It has the following parameters: \n",
    "\tquery: The search string, could be for example customer’s name, part name, user name.\n",
    "\n",
    "\n",
    "The create_actionable_tasks_from_text action: Given a text, extracts actionable insights, and creates tasks for them, which are kind of a work item. It has the following parameters: \n",
    "\ttext: The text from which the actionable insights need to be created.\n",
    "\n",
    "\n",
    "The who_am_i action: Returns the ID of the current user. It has no parameters. \n",
    "'''"
   ]
  },
  {
   "cell_type": "code",
   "execution_count": 14,
   "metadata": {},
   "outputs": [],
   "source": [
    "dataset_csv = pd.read_csv('dataset.csv')\n",
    "dataset_csv.pop('CoT')\n",
    "dataset_csv.pop('Tree of thought Output')\n",
    "dataset_csv.rename(columns={'Query':'instruction', 'Output':'output'}, inplace=True)\n",
    "dataset_csv['input'] = input\n",
    "dataset_csv['data_source'] = ''\n",
    "dataset_csv.to_json(path_or_buf='dataset_train.json', indent=4, orient='records')\n",
    "dataset_csv.to_csv('dataset_train.csv', index=False)"
   ]
  },
  {
   "cell_type": "code",
   "execution_count": 36,
   "metadata": {},
   "outputs": [
    {
     "data": {
      "text/html": [
       "<div>\n",
       "<style scoped>\n",
       "    .dataframe tbody tr th:only-of-type {\n",
       "        vertical-align: middle;\n",
       "    }\n",
       "\n",
       "    .dataframe tbody tr th {\n",
       "        vertical-align: top;\n",
       "    }\n",
       "\n",
       "    .dataframe thead th {\n",
       "        text-align: right;\n",
       "    }\n",
       "</style>\n",
       "<table border=\"1\" class=\"dataframe\">\n",
       "  <thead>\n",
       "    <tr style=\"text-align: right;\">\n",
       "      <th></th>\n",
       "      <th>instruction</th>\n",
       "      <th>input</th>\n",
       "    </tr>\n",
       "  </thead>\n",
       "  <tbody>\n",
       "    <tr>\n",
       "      <th>0</th>\n",
       "      <td>hello</td>\n",
       "      <td>You are an AI assistant designed to help devel...</td>\n",
       "    </tr>\n",
       "  </tbody>\n",
       "</table>\n",
       "</div>"
      ],
      "text/plain": [
       "  instruction                                              input\n",
       "0       hello  You are an AI assistant designed to help devel..."
      ]
     },
     "execution_count": 36,
     "metadata": {},
     "output_type": "execute_result"
    }
   ],
   "source": [
    "dataset_test = pd.DataFrame([\n",
    "    {\n",
    "        'instruction': 'Summarize issues similar to don:core:dvrv-us-1:devo/0:issue/1',\n",
    "        'input': input\n",
    "    }\n",
    "])\n",
    "dataset_test.to_csv('test.csv', index=False)"
   ]
  }
 ],
 "metadata": {
  "kernelspec": {
   "display_name": "Python 3",
   "language": "python",
   "name": "python3"
  },
  "language_info": {
   "codemirror_mode": {
    "name": "ipython",
    "version": 3
   },
   "file_extension": ".py",
   "mimetype": "text/x-python",
   "name": "python",
   "nbconvert_exporter": "python",
   "pygments_lexer": "ipython3",
   "version": "3.10.12"
  }
 },
 "nbformat": 4,
 "nbformat_minor": 2
}
